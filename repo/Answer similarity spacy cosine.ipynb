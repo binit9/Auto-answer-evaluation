{
 "cells": [
  {
   "cell_type": "code",
   "execution_count": 1,
   "metadata": {},
   "outputs": [
    {
     "name": "stdout",
     "output_type": "stream",
     "text": [
      "['barcode']\n"
     ]
    }
   ],
   "source": [
    "import pandas as pd\n",
    "import data_cleaning as dc\n",
    "import en_core_web_lg\n",
    "model = en_core_web_lg.load()"
   ]
  },
  {
   "cell_type": "code",
   "execution_count": 2,
   "metadata": {},
   "outputs": [],
   "source": [
    "df_model_answer = pd.read_excel(\"model_answer.xlsx\", keep_default_na=False, na_values=[\"__\"])"
   ]
  },
  {
   "cell_type": "code",
   "execution_count": 4,
   "metadata": {},
   "outputs": [
    {
     "data": {
      "text/plain": [
       "(3, 1)"
      ]
     },
     "execution_count": 4,
     "metadata": {},
     "output_type": "execute_result"
    }
   ],
   "source": [
    "df_model_answer.shape"
   ]
  },
  {
   "cell_type": "code",
   "execution_count": 5,
   "metadata": {},
   "outputs": [],
   "source": [
    "def preprocess(df, input_col, out_col):\n",
    "    print(\"preprocess cleaning\")\n",
    "    temp = df.copy()\n",
    "    for index, row in temp.iterrows():\n",
    "        raw_text = str(row[input_col])\n",
    "        cleaned_text = dc.stop_and_stem(dc.text_clean(raw_text), stem = False)\n",
    "        slist = cleaned_text.split()\n",
    "        cleaned_text = \" \".join(sorted(set(slist), key = slist.index))\n",
    "        temp.loc[index, out_col] = cleaned_text\n",
    "    return temp"
   ]
  },
  {
   "cell_type": "code",
   "execution_count": 6,
   "metadata": {},
   "outputs": [
    {
     "name": "stdout",
     "output_type": "stream",
     "text": [
      "preprocess cleaning\n"
     ]
    }
   ],
   "source": [
    "input_col = \"model_answer\"\n",
    "output_col = \"model_answer_cleaned\"\n",
    "df_model_answer = preprocess(df_model_answer, input_col, output_col)"
   ]
  },
  {
   "cell_type": "code",
   "execution_count": 7,
   "metadata": {},
   "outputs": [
    {
     "data": {
      "text/html": [
       "<div>\n",
       "<style scoped>\n",
       "    .dataframe tbody tr th:only-of-type {\n",
       "        vertical-align: middle;\n",
       "    }\n",
       "\n",
       "    .dataframe tbody tr th {\n",
       "        vertical-align: top;\n",
       "    }\n",
       "\n",
       "    .dataframe thead th {\n",
       "        text-align: right;\n",
       "    }\n",
       "</style>\n",
       "<table border=\"1\" class=\"dataframe\">\n",
       "  <thead>\n",
       "    <tr style=\"text-align: right;\">\n",
       "      <th></th>\n",
       "      <th>model_answer</th>\n",
       "      <th>model_answer_cleaned</th>\n",
       "    </tr>\n",
       "  </thead>\n",
       "  <tbody>\n",
       "    <tr>\n",
       "      <th>0</th>\n",
       "      <td>A barcode is a series of light and dark bars o...</td>\n",
       "      <td>series light dark bars differing widths</td>\n",
       "    </tr>\n",
       "    <tr>\n",
       "      <th>1</th>\n",
       "      <td>With a code number printed underneath</td>\n",
       "      <td>code number printed underneath</td>\n",
       "    </tr>\n",
       "    <tr>\n",
       "      <th>2</th>\n",
       "      <td>Made up of country of origin code, manufacture...</td>\n",
       "      <td>made up country origin code manufacturer produ...</td>\n",
       "    </tr>\n",
       "  </tbody>\n",
       "</table>\n",
       "</div>"
      ],
      "text/plain": [
       "                                        model_answer  \\\n",
       "0  A barcode is a series of light and dark bars o...   \n",
       "1              With a code number printed underneath   \n",
       "2  Made up of country of origin code, manufacture...   \n",
       "\n",
       "                                model_answer_cleaned  \n",
       "0            series light dark bars differing widths  \n",
       "1                     code number printed underneath  \n",
       "2  made up country origin code manufacturer produ...  "
      ]
     },
     "execution_count": 7,
     "metadata": {},
     "output_type": "execute_result"
    }
   ],
   "source": [
    "df_model_answer"
   ]
  },
  {
   "cell_type": "code",
   "execution_count": 8,
   "metadata": {},
   "outputs": [],
   "source": [
    "df_model_answer.to_csv('cleaning_check.csv')"
   ]
  },
  {
   "cell_type": "code",
   "execution_count": 9,
   "metadata": {},
   "outputs": [],
   "source": [
    "df_student_answer = pd.read_excel(\"student_answer.xlsx\", \"Sheet1\", keep_default_na=False, na_values=[\"__\"])"
   ]
  },
  {
   "cell_type": "code",
   "execution_count": 10,
   "metadata": {},
   "outputs": [
    {
     "data": {
      "text/html": [
       "<div>\n",
       "<style scoped>\n",
       "    .dataframe tbody tr th:only-of-type {\n",
       "        vertical-align: middle;\n",
       "    }\n",
       "\n",
       "    .dataframe tbody tr th {\n",
       "        vertical-align: top;\n",
       "    }\n",
       "\n",
       "    .dataframe thead th {\n",
       "        text-align: right;\n",
       "    }\n",
       "</style>\n",
       "<table border=\"1\" class=\"dataframe\">\n",
       "  <thead>\n",
       "    <tr style=\"text-align: right;\">\n",
       "      <th></th>\n",
       "      <th>#</th>\n",
       "      <th>Student Answer</th>\n",
       "      <th>Marks</th>\n",
       "      <th>Justification</th>\n",
       "      <th>Complexity</th>\n",
       "      <th>Ref Answer</th>\n",
       "    </tr>\n",
       "  </thead>\n",
       "  <tbody>\n",
       "    <tr>\n",
       "      <th>0</th>\n",
       "      <td>1</td>\n",
       "      <td>A barcode is a series of white and black bars ...</td>\n",
       "      <td>1</td>\n",
       "      <td>1</td>\n",
       "      <td>medium</td>\n",
       "      <td>1. A barcode is a series of light and dark bar...</td>\n",
       "    </tr>\n",
       "    <tr>\n",
       "      <th>1</th>\n",
       "      <td>2</td>\n",
       "      <td>A barcode is represnted by a sequence of light...</td>\n",
       "      <td>1</td>\n",
       "      <td>1</td>\n",
       "      <td>medium</td>\n",
       "      <td></td>\n",
       "    </tr>\n",
       "    <tr>\n",
       "      <th>2</th>\n",
       "      <td>3</td>\n",
       "      <td>A barcode is a series of light and dark bars o...</td>\n",
       "      <td>1</td>\n",
       "      <td>1</td>\n",
       "      <td>medium</td>\n",
       "      <td></td>\n",
       "    </tr>\n",
       "    <tr>\n",
       "      <th>3</th>\n",
       "      <td>4</td>\n",
       "      <td>Barcode is a kind of code with bars with a cod...</td>\n",
       "      <td>1</td>\n",
       "      <td>2</td>\n",
       "      <td>easy</td>\n",
       "      <td></td>\n",
       "    </tr>\n",
       "    <tr>\n",
       "      <th>4</th>\n",
       "      <td>5</td>\n",
       "      <td>Barcode is a series of bars with a code number...</td>\n",
       "      <td>1</td>\n",
       "      <td>2</td>\n",
       "      <td>medium</td>\n",
       "      <td></td>\n",
       "    </tr>\n",
       "  </tbody>\n",
       "</table>\n",
       "</div>"
      ],
      "text/plain": [
       "   #                                     Student Answer  Marks Justification  \\\n",
       "0  1  A barcode is a series of white and black bars ...      1             1   \n",
       "1  2  A barcode is represnted by a sequence of light...      1             1   \n",
       "2  3  A barcode is a series of light and dark bars o...      1             1   \n",
       "3  4  Barcode is a kind of code with bars with a cod...      1             2   \n",
       "4  5  Barcode is a series of bars with a code number...      1             2   \n",
       "\n",
       "  Complexity                                         Ref Answer  \n",
       "0     medium  1. A barcode is a series of light and dark bar...  \n",
       "1     medium                                                     \n",
       "2     medium                                                     \n",
       "3       easy                                                     \n",
       "4     medium                                                     "
      ]
     },
     "execution_count": 10,
     "metadata": {},
     "output_type": "execute_result"
    }
   ],
   "source": [
    "df_student_answer.head()"
   ]
  },
  {
   "cell_type": "code",
   "execution_count": 11,
   "metadata": {},
   "outputs": [
    {
     "name": "stdout",
     "output_type": "stream",
     "text": [
      "preprocess cleaning\n"
     ]
    }
   ],
   "source": [
    "input_col = \"Student Answer\"\n",
    "output_col = \"student_answer_cleaned\"\n",
    "df_student_answer = preprocess(df_student_answer, input_col, output_col)"
   ]
  },
  {
   "cell_type": "code",
   "execution_count": 12,
   "metadata": {},
   "outputs": [
    {
     "data": {
      "text/html": [
       "<div>\n",
       "<style scoped>\n",
       "    .dataframe tbody tr th:only-of-type {\n",
       "        vertical-align: middle;\n",
       "    }\n",
       "\n",
       "    .dataframe tbody tr th {\n",
       "        vertical-align: top;\n",
       "    }\n",
       "\n",
       "    .dataframe thead th {\n",
       "        text-align: right;\n",
       "    }\n",
       "</style>\n",
       "<table border=\"1\" class=\"dataframe\">\n",
       "  <thead>\n",
       "    <tr style=\"text-align: right;\">\n",
       "      <th></th>\n",
       "      <th>Student Answer</th>\n",
       "      <th>student_answer_cleaned</th>\n",
       "    </tr>\n",
       "  </thead>\n",
       "  <tbody>\n",
       "    <tr>\n",
       "      <th>0</th>\n",
       "      <td>A barcode is a series of white and black bars ...</td>\n",
       "      <td>series white black bars differing widths paste...</td>\n",
       "    </tr>\n",
       "    <tr>\n",
       "      <th>1</th>\n",
       "      <td>A barcode is represnted by a sequence of light...</td>\n",
       "      <td>represnted sequence light dark bars different ...</td>\n",
       "    </tr>\n",
       "    <tr>\n",
       "      <th>2</th>\n",
       "      <td>A barcode is a series of light and dark bars o...</td>\n",
       "      <td>series light dark bars differing thickness</td>\n",
       "    </tr>\n",
       "    <tr>\n",
       "      <th>3</th>\n",
       "      <td>Barcode is a kind of code with bars with a cod...</td>\n",
       "      <td>kind code bars number printed underneath</td>\n",
       "    </tr>\n",
       "    <tr>\n",
       "      <th>4</th>\n",
       "      <td>Barcode is a series of bars with a code number...</td>\n",
       "      <td>series bars code number printed bottom</td>\n",
       "    </tr>\n",
       "  </tbody>\n",
       "</table>\n",
       "</div>"
      ],
      "text/plain": [
       "                                      Student Answer  \\\n",
       "0  A barcode is a series of white and black bars ...   \n",
       "1  A barcode is represnted by a sequence of light...   \n",
       "2  A barcode is a series of light and dark bars o...   \n",
       "3  Barcode is a kind of code with bars with a cod...   \n",
       "4  Barcode is a series of bars with a code number...   \n",
       "\n",
       "                              student_answer_cleaned  \n",
       "0  series white black bars differing widths paste...  \n",
       "1  represnted sequence light dark bars different ...  \n",
       "2         series light dark bars differing thickness  \n",
       "3           kind code bars number printed underneath  \n",
       "4             series bars code number printed bottom  "
      ]
     },
     "execution_count": 12,
     "metadata": {},
     "output_type": "execute_result"
    }
   ],
   "source": [
    "df_student_answer[[\"Student Answer\", \"student_answer_cleaned\"]].head()"
   ]
  },
  {
   "cell_type": "code",
   "execution_count": 13,
   "metadata": {},
   "outputs": [],
   "source": [
    "df_student_answer.to_csv('check_cleaning_1.csv')"
   ]
  },
  {
   "cell_type": "code",
   "execution_count": 14,
   "metadata": {},
   "outputs": [],
   "source": [
    "def Similarity(original,compared):\n",
    "    score = 0\n",
    "\n",
    "    if str(original) == str(compared):\n",
    "        score = 1\n",
    "        return score\n",
    "    elif len(original)==0 or len(compared)==0:\n",
    "            score = 0\n",
    "    else:\n",
    "        word_vec_org = model(original)\n",
    "        word_vec_com = model(compared)\n",
    "        score = word_vec_org.similarity(word_vec_com)\n",
    "    return score"
   ]
  },
  {
   "cell_type": "code",
   "execution_count": 32,
   "metadata": {},
   "outputs": [],
   "source": [
    "answers = []\n",
    "score_1 = []\n",
    "score_2 = []\n",
    "score_3 = []\n",
    "actual_marks = []\n",
    "reason = []\n",
    "\n",
    "for index1, rows1 in df_student_answer.iterrows():\n",
    "    answers.append(rows1['Student Answer'])\n",
    "    actual_marks.append(rows1['Marks'])\n",
    "    reason.append(rows1['Justification'])\n",
    "    score_1.append(Similarity(rows1['student_answer_cleaned'],df_model_answer['model_answer_cleaned'][0]))\n",
    "    score_2.append(Similarity(rows1['student_answer_cleaned'],df_model_answer['model_answer_cleaned'][1]))\n",
    "    score_3.append(Similarity(rows1['student_answer_cleaned'],df_model_answer['model_answer_cleaned'][2]))\n",
    "\n",
    "new = pd.DataFrame(list(zip(answers,score_1,score_2,score_3,actual_marks,reason)),\n",
    "                   columns =['Answer','Score with point 1','Score with point 2','Score with point 3','Actual Marks', 'Justification'])\n",
    "new.to_csv('output_answer_scores.csv', index = False)\n",
    "    "
   ]
  },
  {
   "cell_type": "code",
   "execution_count": 26,
   "metadata": {},
   "outputs": [
    {
     "data": {
      "text/plain": [
       "0.6822474784200924"
      ]
     },
     "execution_count": 26,
     "metadata": {},
     "output_type": "execute_result"
    }
   ],
   "source": [
    "text1 = \"Man sleeps\"\n",
    "text2 = \"Lady wakes\"\n",
    "\n",
    "Similarity(text1, text2)"
   ]
  },
  {
   "cell_type": "code",
   "execution_count": 27,
   "metadata": {},
   "outputs": [],
   "source": [
    "df_65 = pd.read_excel(\"65_answers.xlsx\", \"Consolidated\", keep_default_na=False, na_values=[\"__\"])"
   ]
  },
  {
   "cell_type": "code",
   "execution_count": 28,
   "metadata": {},
   "outputs": [
    {
     "data": {
      "text/html": [
       "<div>\n",
       "<style scoped>\n",
       "    .dataframe tbody tr th:only-of-type {\n",
       "        vertical-align: middle;\n",
       "    }\n",
       "\n",
       "    .dataframe tbody tr th {\n",
       "        vertical-align: top;\n",
       "    }\n",
       "\n",
       "    .dataframe thead th {\n",
       "        text-align: right;\n",
       "    }\n",
       "</style>\n",
       "<table border=\"1\" class=\"dataframe\">\n",
       "  <thead>\n",
       "    <tr style=\"text-align: right;\">\n",
       "      <th></th>\n",
       "      <th>#</th>\n",
       "      <th>Student Answer</th>\n",
       "      <th>Marks</th>\n",
       "      <th>Justification</th>\n",
       "      <th>Complexity</th>\n",
       "      <th>Ref Answer</th>\n",
       "    </tr>\n",
       "  </thead>\n",
       "  <tbody>\n",
       "    <tr>\n",
       "      <th>0</th>\n",
       "      <td>1</td>\n",
       "      <td>A barcode is a rectangular strip comprising of...</td>\n",
       "      <td>1</td>\n",
       "      <td>2</td>\n",
       "      <td>tough</td>\n",
       "      <td>1. A barcode is a series of light and dark bar...</td>\n",
       "    </tr>\n",
       "    <tr>\n",
       "      <th>1</th>\n",
       "      <td>2</td>\n",
       "      <td>A barcode is a bar with product code printed. ...</td>\n",
       "      <td>0</td>\n",
       "      <td>0</td>\n",
       "      <td>tough</td>\n",
       "      <td></td>\n",
       "    </tr>\n",
       "    <tr>\n",
       "      <th>2</th>\n",
       "      <td>3</td>\n",
       "      <td>It is a machine readable numbers arranged in a...</td>\n",
       "      <td>1</td>\n",
       "      <td>1</td>\n",
       "      <td>tough</td>\n",
       "      <td></td>\n",
       "    </tr>\n",
       "    <tr>\n",
       "      <th>3</th>\n",
       "      <td>4</td>\n",
       "      <td>Barcode is a unique series of parallel lines p...</td>\n",
       "      <td>1</td>\n",
       "      <td>1</td>\n",
       "      <td>tough</td>\n",
       "      <td></td>\n",
       "    </tr>\n",
       "    <tr>\n",
       "      <th>4</th>\n",
       "      <td>5</td>\n",
       "      <td>Barcode uses a phone's camera to turn itself i...</td>\n",
       "      <td>0</td>\n",
       "      <td>0</td>\n",
       "      <td>easy</td>\n",
       "      <td></td>\n",
       "    </tr>\n",
       "  </tbody>\n",
       "</table>\n",
       "</div>"
      ],
      "text/plain": [
       "   #                                     Student Answer  Marks Justification  \\\n",
       "0  1  A barcode is a rectangular strip comprising of...      1             2   \n",
       "1  2  A barcode is a bar with product code printed. ...      0             0   \n",
       "2  3  It is a machine readable numbers arranged in a...      1             1   \n",
       "3  4  Barcode is a unique series of parallel lines p...      1             1   \n",
       "4  5  Barcode uses a phone's camera to turn itself i...      0             0   \n",
       "\n",
       "  Complexity                                         Ref Answer  \n",
       "0      tough  1. A barcode is a series of light and dark bar...  \n",
       "1      tough                                                     \n",
       "2      tough                                                     \n",
       "3      tough                                                     \n",
       "4       easy                                                     "
      ]
     },
     "execution_count": 28,
     "metadata": {},
     "output_type": "execute_result"
    }
   ],
   "source": [
    "df_65.head()"
   ]
  },
  {
   "cell_type": "code",
   "execution_count": 29,
   "metadata": {},
   "outputs": [
    {
     "name": "stdout",
     "output_type": "stream",
     "text": [
      "preprocess cleaning\n"
     ]
    }
   ],
   "source": [
    "input_col = \"Student Answer\"\n",
    "output_col = \"student_answer_cleaned\"\n",
    "df_65 = preprocess(df_65, input_col, output_col)"
   ]
  },
  {
   "cell_type": "code",
   "execution_count": 31,
   "metadata": {},
   "outputs": [],
   "source": [
    "#df_65[[\"Student Answer\", \"student_answer_cleaned\"]]"
   ]
  },
  {
   "cell_type": "code",
   "execution_count": 46,
   "metadata": {},
   "outputs": [],
   "source": [
    "def jaccard_similarity(text1, text2):\n",
    "    s1 = set(text1.split())\n",
    "    s2 = set(text2.split())\n",
    "    return len(s1.intersection(s2)) / len(s1.union(s2))"
   ]
  },
  {
   "cell_type": "code",
   "execution_count": 47,
   "metadata": {},
   "outputs": [],
   "source": [
    "answers = []\n",
    "score_1 = []\n",
    "score_2 = []\n",
    "score_3 = []\n",
    "actual_marks = []\n",
    "reason = []\n",
    "jac_1 = []\n",
    "jac_2 = []\n",
    "jac_3 = []\n",
    "\n",
    "for index1, rows1 in df_65.iterrows():\n",
    "    answers.append(rows1['Student Answer'])\n",
    "    actual_marks.append(rows1['Marks'])\n",
    "    reason.append(rows1['Justification'])\n",
    "    score_1.append(Similarity(rows1['student_answer_cleaned'],df_model_answer['model_answer_cleaned'][0]))\n",
    "    score_2.append(Similarity(rows1['student_answer_cleaned'],df_model_answer['model_answer_cleaned'][1]))\n",
    "    score_3.append(Similarity(rows1['student_answer_cleaned'],df_model_answer['model_answer_cleaned'][2]))\n",
    "    jac_1.append(jaccard_similarity(rows1['student_answer_cleaned'],df_model_answer['model_answer_cleaned'][0]))\n",
    "    jac_2.append(jaccard_similarity(rows1['student_answer_cleaned'],df_model_answer['model_answer_cleaned'][1]))\n",
    "    jac_3.append(jaccard_similarity(rows1['student_answer_cleaned'],df_model_answer['model_answer_cleaned'][2]))\n",
    "\n",
    "new = pd.DataFrame(list(zip(answers,score_1,score_2,score_3,actual_marks,reason,jac_1,jac_2,jac_3)),\n",
    "                   columns =['Answer','Score with point 1','Score with point 2','Score with point 3','Actual Marks','Justification',\n",
    "                            'Jac_1', 'Jac_2', 'Jac_3'])\n",
    "new.to_csv('65_temp_scores.csv', index = False)"
   ]
  },
  {
   "cell_type": "code",
   "execution_count": 45,
   "metadata": {},
   "outputs": [
    {
     "name": "stdout",
     "output_type": "stream",
     "text": [
      "[-1.2538e-01  3.8888e-01  4.8011e-01 -4.9002e-01 -3.6593e-03 -2.8381e-01\n",
      " -3.0941e-01 -1.3498e-01  1.9084e-01  8.0288e-01  4.2266e-01 -2.9402e-01\n",
      " -2.6985e-01 -1.7700e-01 -3.0054e-01  1.7076e-02 -3.2872e-01  2.2793e+00\n",
      " -3.6797e-01  2.6255e-01  4.4370e-01 -8.0851e-02 -1.1741e-01  5.5017e-01\n",
      "  1.6258e-01  5.4599e-02 -1.2735e-01 -1.5065e-01 -2.2314e-01 -2.2071e-01\n",
      " -5.1473e-02 -2.3058e-01 -7.6502e-02  4.3800e-01  2.2685e-01  1.5235e-01\n",
      " -3.8982e-01  2.6686e-01 -1.4056e-01 -3.1321e-02  2.7343e-01  7.4885e-01\n",
      " -6.5482e-01 -1.7675e-01 -4.4518e-01  3.2047e-01  8.0788e-02 -6.1032e-02\n",
      " -4.0233e-01  6.1603e-01  1.4369e-01  3.6725e-01 -6.7580e-01  4.1636e-02\n",
      " -1.8292e-01 -4.0382e-01  7.0964e-02 -2.4140e-01  1.0813e-01 -5.5925e-02\n",
      " -2.7747e-01 -2.1325e-02  3.7895e-02  2.6205e-01  4.8563e-01  1.4882e-01\n",
      "  2.6676e-01  3.8100e-01 -5.1741e-01  3.8224e-01 -2.0476e-01 -3.9371e-01\n",
      " -1.4245e-01 -5.5597e-01  3.3155e-01  3.7561e-01  1.0290e-01 -1.4021e-01\n",
      " -3.4799e-02  5.4190e-01 -4.6772e-01 -7.5114e-01  4.9941e-01 -6.5316e-01\n",
      " -1.9805e-01 -1.3873e-01  3.0931e-01  9.3473e-01  1.9204e-01  1.4464e-01\n",
      "  1.7006e-01  6.3785e-01 -5.5802e-01 -5.7271e-02 -8.9900e-03 -6.6015e-01\n",
      "  4.2648e-01 -5.9017e-02 -3.8106e-01  5.7887e-01 -6.2784e-01 -4.4691e-01\n",
      "  9.6595e-02 -3.4801e-02 -9.1260e-03 -1.2832e+00  7.3829e-02 -1.3664e-01\n",
      "  2.3374e-01  2.9270e-01  3.7259e-01 -2.8581e-01 -2.8485e-02  4.2619e-02\n",
      "  1.2447e-01 -4.1801e-01  7.3759e-02  4.0579e-02 -1.0818e-01  4.6263e-02\n",
      " -2.3526e-01  1.5849e-01  4.9877e-01 -2.7530e-01 -7.7338e-01 -8.8185e-01\n",
      " -1.3453e-01  5.6241e-01  3.7020e-01  9.4912e-02 -2.8169e-01 -6.7555e-02\n",
      " -2.5203e-01 -2.4033e-02  2.3370e-01  2.1942e-03 -8.5946e-02  3.6236e-01\n",
      "  2.6711e-01  3.1064e-01 -1.8595e+00 -5.4380e-01  3.6655e-01 -2.3714e-01\n",
      "  2.7068e-01 -5.0827e-01 -2.1336e-01 -2.5710e-01  5.5375e-01  3.6754e-02\n",
      " -1.8159e-01 -1.7744e-01  1.0713e-01  4.1646e-01 -2.3251e-01  5.1152e-02\n",
      " -8.1735e-02 -3.0118e-01  4.0135e-01  3.3824e-01  1.1033e-01  7.8489e-03\n",
      " -2.2855e-01  3.9407e-01 -3.9379e-01  4.6070e-02 -1.2911e-01 -3.2594e-01\n",
      " -6.7799e-02  3.7404e-01 -4.8806e-02  7.4877e-02 -3.7509e-01 -4.2719e-01\n",
      " -3.9949e-02  2.4295e-01 -1.0048e-01  1.4703e-01 -2.1786e-02  5.2455e-01\n",
      "  1.2530e-01 -3.7127e-02 -1.2895e-01 -6.8115e-01  2.7283e-01  3.5819e-01\n",
      "  5.2180e-03  6.0217e-01 -6.8525e-01  9.8943e-02 -4.2956e-01 -7.6241e-02\n",
      " -1.9676e-01  1.5853e-01 -6.0924e-02  1.1151e-01  3.3199e-01 -1.6778e-01\n",
      " -5.6375e-01 -2.0539e-01  1.3492e-01  5.0102e-01 -3.5647e-03 -4.2527e-01\n",
      " -2.8840e-01  1.9601e-01 -9.3187e-02 -1.0316e-02 -2.3024e-01  1.6043e-01\n",
      " -2.6667e-01 -1.5807e-01 -5.5894e-02  2.8197e-01  1.7274e-01 -3.2698e-01\n",
      " -2.3177e-01  4.7821e-01 -8.5116e-01 -1.8302e-01  1.7482e-02  6.6161e-01\n",
      " -6.8564e-02  3.0698e-01  2.9909e-01 -1.1345e-01  2.2804e-01  5.1593e-01\n",
      "  2.3480e-01  1.8858e-01  3.4182e-01 -9.6411e-02  1.1632e-01  2.5952e-01\n",
      " -3.2947e-01 -5.0008e-01  6.7512e-02  3.7719e-01 -8.6173e-01  2.3820e-01\n",
      "  1.1633e-01  9.2813e-02  4.4505e-01 -9.1504e-02  5.6345e-02 -4.5444e-01\n",
      " -3.7568e-01 -3.7943e-01 -3.6752e-01  5.0906e-01  4.2920e-01  1.9015e-01\n",
      "  2.4404e-01  2.9100e-01 -3.6826e-01  5.9287e-02 -4.4266e-01  7.9412e-02\n",
      " -8.4269e-02  3.7502e-01  2.1246e-01  4.5898e-01 -3.9917e-01 -5.1263e-01\n",
      " -5.8228e-01  5.4039e-01 -2.2005e-01  4.8507e-01  6.5388e-01  2.0298e-01\n",
      "  3.5684e-01 -3.6751e-01  1.1266e-01 -4.4610e-01 -2.1463e-01  5.4154e-01\n",
      "  7.4316e-02 -3.6534e-02  4.7822e-01 -3.5731e-01  1.2694e-02 -7.7252e-02\n",
      " -1.1840e-01 -1.1888e-01 -2.1614e-01 -3.4713e-01 -2.8840e-01  1.1403e-01\n",
      " -2.9200e-01 -5.1218e-01 -2.4450e-01 -1.5023e-01  7.7573e-01  8.7717e-01\n",
      "  3.0415e-01 -1.7403e-01  3.6761e-01 -1.9285e-01 -6.0198e-01  5.5969e-01]\n",
      "[ 4.7511e-02  1.4040e-01 -1.1736e-01  2.6776e-02  8.9064e-03 -1.7862e-01\n",
      " -1.6459e-01  3.7617e-01  1.8043e-01  2.4019e+00 -6.9547e-01  2.9021e-01\n",
      " -1.8381e-01  2.6882e-01  1.3766e-01  5.0929e-01 -2.4774e-01  1.5481e+00\n",
      " -5.1626e-01 -7.6177e-02  8.3617e-02 -3.5588e-01  5.5642e-03  2.9191e-01\n",
      "  5.4312e-01  3.3116e-01  2.7372e-01  1.0495e-01  1.3782e-01 -2.8726e-01\n",
      " -5.2617e-01 -9.3439e-02  5.2153e-01 -4.5915e-01  7.3476e-02  1.7759e-01\n",
      "  6.5760e-01  4.6065e-01  9.5365e-02 -8.2841e-02  3.0287e-01 -3.9840e-01\n",
      " -2.4742e-01  3.2698e-01  9.4053e-02  8.8687e-01 -1.3794e-01  3.7279e-01\n",
      "  1.7293e-01 -1.6493e-01 -4.0907e-01 -1.9369e-01  2.7754e-01  8.9613e-02\n",
      "  1.9196e-01  2.9639e-01  5.5632e-03  2.4578e-01 -4.9777e-02  2.2865e-02\n",
      " -3.6916e-02 -9.0145e-02  1.8284e-01 -4.8745e-01  4.3737e-01 -2.1256e-01\n",
      "  8.6762e-02  4.5536e-01  7.2714e-01 -7.5632e-02 -2.5600e-01 -7.4768e-01\n",
      "  1.4565e-01 -6.0216e-01 -2.1309e-01 -9.7433e-02  4.9260e-01  2.7835e-01\n",
      " -2.6123e-01  2.7798e-01  5.2130e-02  1.0526e-01  2.3886e-01  2.0363e-03\n",
      " -5.2941e-02 -3.8963e-02 -1.2548e+00  2.4893e-01  3.1144e-01  2.6388e-01\n",
      " -1.2672e-01 -2.4456e-01 -4.2137e-01 -1.9696e-02 -6.6507e-02  1.4533e-01\n",
      "  3.7547e-01 -7.0256e-02  1.2642e-01 -9.5052e-02  1.7260e-01 -5.1928e-01\n",
      " -3.3817e-01 -1.1949e-01  3.8014e-01 -1.5778e+00  2.4614e-01  4.0207e-01\n",
      "  3.0788e-01  1.9376e-01  1.3668e-01 -1.3605e-01 -2.2630e-01 -5.4962e-01\n",
      "  2.0997e-01 -4.7915e-01  1.0161e-01  2.3717e-02 -3.0027e-01 -5.5633e-02\n",
      "  4.9016e-01 -2.6348e-01  4.8054e-01  2.5530e-01  3.4745e-01  1.9498e-01\n",
      " -2.7644e-01  4.2580e-01  2.1778e-01 -3.0024e-01  3.5428e-01 -1.9856e-01\n",
      " -2.7812e-01  5.5216e-02  3.0133e-01  4.9818e-02  2.1033e-01  2.1673e-01\n",
      "  3.4425e-01 -6.3465e-02 -7.6366e-01 -2.8659e-01 -1.7462e-01 -2.0196e-01\n",
      " -3.3924e-01 -3.9245e-01  9.4466e-02  7.4721e-02 -4.6175e-01 -4.0543e-01\n",
      " -1.0089e-01  9.0888e-02 -2.4757e-02  1.6607e-01  5.4360e-02 -2.3332e-01\n",
      "  1.6077e-01 -1.9339e-01  1.0388e-01 -9.0842e-01 -4.6259e-01  1.7877e-01\n",
      " -1.4230e-01 -2.1888e-01  3.2829e-02  9.2654e-02 -5.5107e-02 -4.3385e-01\n",
      "  3.9004e-02  1.0792e-01  1.8532e-01 -1.2633e-01  9.0149e-01  1.4841e-01\n",
      "  1.0715e-01  2.5301e-02  3.2281e-01  4.7292e-01  4.4502e-01 -2.7469e-01\n",
      "  2.7227e-01  4.0951e-01  1.6096e-01  1.1366e-01  5.1921e-02  2.2392e-01\n",
      " -4.1591e-01  1.9213e-01  8.4394e-02 -1.9700e-01 -3.2804e-01 -2.5895e-01\n",
      " -7.6185e-03 -1.8657e-01 -3.5274e-01  4.0084e-01  3.0669e-01 -1.8956e-01\n",
      "  5.6921e-01  3.2003e-01 -1.0628e-02 -1.5319e-01  1.1829e-01  3.7595e-01\n",
      " -4.2848e-01 -2.1125e-01 -2.8093e-01 -4.7346e-01  2.6975e-01 -1.3606e-01\n",
      " -4.7288e-01  2.5780e-02 -1.2720e-02 -1.9219e-01  1.4098e-01 -3.1086e-01\n",
      "  1.6509e-01 -8.9551e-02 -1.2111e-01  2.7990e-01  5.1923e-01 -1.4167e-01\n",
      "  1.2239e-01 -3.7870e-01 -3.9871e-01  3.7938e-01  2.8082e-01 -1.9684e-01\n",
      "  4.4260e-01  1.5694e-01 -5.0872e-01 -1.8999e-02 -5.2241e-01 -3.5129e-02\n",
      " -1.6015e-01 -8.2398e-02  2.7155e-01  3.7579e-01  1.4203e-02  1.1462e-01\n",
      "  1.3496e-01 -4.9868e-01 -3.9236e-02 -3.2646e-02  1.3561e-01 -3.6006e-01\n",
      " -6.6334e-01 -3.2215e-01 -4.4893e-01  1.6358e-01  4.4265e-01 -3.8477e-02\n",
      " -3.6316e-01  3.6506e-01  2.8644e-01 -3.4303e-01  1.3717e-01 -3.2060e-01\n",
      " -5.7219e-02  2.4049e-01  4.0533e-01 -3.5937e-01  1.7154e-01  1.5798e-01\n",
      " -2.0299e-01 -6.3447e-01 -6.8220e-01  1.4246e-01  8.0209e-01  2.2813e-01\n",
      " -9.1191e-01  1.5442e-01 -4.3770e-01 -4.9642e-01 -7.3749e-01 -3.9206e-01\n",
      " -4.1979e-02 -2.5523e-01 -1.5269e-02 -2.1165e-02 -2.1572e-01 -9.5547e-02\n",
      "  6.9529e-02 -6.2781e-02  3.8362e-01 -9.2508e-01  4.9546e-01 -2.8372e-02\n",
      " -4.0206e-02 -2.6036e-01  5.5733e-01 -2.3324e-01 -2.7999e-01  3.3848e-01\n",
      "  2.7365e-01  5.1868e-01 -2.4604e-01  3.1690e-02 -1.4208e-01  4.2548e-01]\n",
      "[-9.49163362e-02  3.98840040e-01  7.21400008e-02 -1.42813371e-02\n",
      "  6.58456981e-02 -1.29539326e-01 -8.83199945e-02  1.24220006e-01\n",
      " -3.50700021e-02  1.36592996e+00 -1.53556660e-01  1.37886673e-01\n",
      " -1.96046665e-01 -1.90376654e-01 -1.62963316e-01  1.79536328e-01\n",
      " -2.66453356e-01  1.70609999e+00 -1.56273335e-01  7.18800053e-02\n",
      "  1.61442667e-01 -1.37374654e-01 -2.60472652e-02  2.40199998e-01\n",
      "  3.92856687e-01  1.77559674e-01  1.25780001e-01 -2.97176670e-02\n",
      " -2.93762982e-02 -1.50792658e-01 -3.00537676e-01  1.38223693e-01\n",
      "  1.20655321e-01  1.24000013e-02  1.21453345e-01  2.76980013e-01\n",
      "  1.39423326e-01  4.37083334e-01 -8.20683390e-02  4.17599827e-03\n",
      "  9.88166630e-02  1.27256989e-01 -2.40576684e-01  1.26166642e-02\n",
      " -2.11528972e-01  4.39590007e-01 -2.01103017e-02  2.15452671e-01\n",
      " -4.80390005e-02  2.10630000e-01 -1.77393317e-01  1.55866668e-01\n",
      " -1.59222677e-01  9.72296670e-02 -2.32723262e-02 -1.08293397e-02\n",
      "  2.43424010e-02 -1.01870000e-01  4.51133167e-03 -4.62733358e-02\n",
      " -1.27054662e-01 -7.02830032e-02  7.34339133e-02 -7.22432360e-02\n",
      "  3.98856640e-01 -1.27843335e-01  4.86939959e-02  1.40243337e-01\n",
      " -5.66933341e-02  2.36782670e-01 -2.60043353e-01 -4.50186640e-01\n",
      " -1.33283347e-01 -4.16347355e-01  1.99373350e-01  2.83978969e-01\n",
      "  2.35400006e-01 -2.24300027e-02 -1.53582990e-01  3.12249988e-01\n",
      " -9.35100093e-02 -1.30209997e-01  1.38279989e-01 -2.58877903e-01\n",
      " -8.21080655e-02 -1.45176686e-02 -3.16430420e-01  1.97480008e-01\n",
      "  2.34029993e-01  2.14603350e-01 -1.88966673e-02  2.33316660e-01\n",
      " -1.60253331e-01 -6.95733307e-03 -3.06766648e-02 -2.38499999e-01\n",
      "  1.41690001e-01 -1.10577665e-01 -1.50899990e-02  1.68701336e-01\n",
      " -1.36231676e-01 -1.40393347e-01 -1.87105000e-01 -2.33667597e-04\n",
      "  2.51651317e-01 -3.22766691e-01  9.41273347e-02  1.19759329e-01\n",
      "  2.96810001e-01  2.35953316e-01  3.67786646e-01 -2.27819994e-01\n",
      " -7.54460022e-02 -3.09506983e-01  8.15666746e-03 -2.57406682e-01\n",
      "  8.25206637e-02 -2.12613326e-02 -1.00963332e-01  3.20866667e-02\n",
      " -5.43333292e-02 -1.20856673e-01  2.56133318e-01  2.21453309e-02\n",
      " -1.90366670e-01 -2.19196007e-01 -7.79499933e-02  5.10083318e-01\n",
      "  2.17567995e-01 -4.98440005e-02  1.55446663e-01 -1.37228325e-01\n",
      " -1.85732663e-01 -7.59633398e-03  1.97501659e-01 -7.95026403e-03\n",
      " -1.09953331e-02  1.73403993e-01  2.70383328e-01  6.70263395e-02\n",
      " -9.23409998e-01 -1.65059999e-01  1.55249998e-01 -7.51833320e-02\n",
      " -8.62699971e-02 -3.96860003e-01 -6.46953285e-02  8.72336701e-02\n",
      "  1.15046673e-01 -1.37479320e-01  6.62633255e-02 -5.24200015e-02\n",
      " -5.75756729e-02  2.30563328e-01 -6.81043342e-02 -3.81883346e-02\n",
      "  4.85076644e-02 -3.59096646e-01  4.22500037e-02 -1.77430347e-01\n",
      "  1.03766620e-02  7.52226338e-02 -4.02200036e-02 -1.07866675e-02\n",
      " -9.69296694e-02  1.29207999e-01 -1.08365662e-01 -4.06200022e-01\n",
      " -8.26150104e-02  3.05253327e-01  4.61121984e-02 -6.22709990e-02\n",
      "  5.20333238e-02 -2.57299989e-01  1.36193335e-02  4.92569990e-02\n",
      "  2.84899976e-02  1.00840002e-01  2.70594686e-01  9.95236710e-02\n",
      "  1.41553327e-01  1.24099851e-03  2.11243331e-02 -8.34933445e-02\n",
      " -1.83159664e-01  2.72223324e-01 -5.06373346e-02  3.52279991e-01\n",
      " -2.83208668e-01 -4.42209989e-02 -3.34380001e-01 -1.03497326e-01\n",
      "  1.00900508e-01 -5.49666695e-02 -2.32981324e-01  5.71100116e-02\n",
      "  1.48866668e-01 -9.24906656e-02  2.14636531e-02  1.57236665e-01\n",
      "  3.88294011e-02 -2.94999778e-03  2.59361774e-01  3.58333401e-02\n",
      " -2.84133315e-01 -1.14933342e-01 -1.24448068e-01 -2.37805322e-01\n",
      " -9.14199948e-02  2.97073331e-02 -1.46506667e-01 -8.02966654e-02\n",
      " -1.68791339e-01  6.88366666e-02  3.39243323e-01 -1.57480001e-01\n",
      "  8.42466727e-02  8.66063312e-02 -4.71013308e-01 -2.39566565e-02\n",
      "  5.91873415e-02  2.11496666e-01 -1.47684664e-01  4.52033393e-02\n",
      "  5.11900000e-02  3.13466601e-02  3.76743317e-01  2.07246676e-01\n",
      "  1.85753345e-01 -9.31000244e-03 -7.56933317e-02  2.34399978e-02\n",
      " -5.48033305e-02  1.21343665e-01  2.75966581e-02 -1.76493321e-02\n",
      " -6.52193353e-02  1.12583332e-01 -3.71042341e-01  1.54080003e-01\n",
      " -1.46900015e-02 -2.07988992e-01  2.39861324e-01 -1.72353342e-01\n",
      " -2.42916644e-02 -3.04033995e-01 -6.01719975e-01 -2.29893327e-01\n",
      " -2.37306669e-01  3.47100019e-01  2.27273330e-01  3.05931002e-01\n",
      " -1.06579997e-01  5.29200025e-02 -1.30879998e-01  3.09556723e-02\n",
      " -3.30166668e-01 -1.56352669e-01 -3.65823321e-02  1.97607681e-01\n",
      "  1.84795991e-01  1.07986666e-01  6.51599988e-02 -6.55433238e-02\n",
      " -2.21223310e-01 -1.04466654e-01 -3.57726663e-01  1.56536654e-01\n",
      "  4.81729984e-01  2.10679993e-01 -1.62701324e-01 -2.52533313e-02\n",
      " -1.48676679e-01 -2.90339679e-01 -5.18396676e-01  6.92600086e-02\n",
      "  1.47669002e-01 -1.82017997e-01  6.94403276e-02  4.86983322e-02\n",
      "  8.35880041e-02 -1.48249671e-01  6.60199905e-03 -1.35360330e-01\n",
      "  1.39716670e-01 -6.02606714e-01  2.16586664e-01  9.23433434e-03\n",
      " -9.81846675e-02 -2.58171409e-01 -3.71666551e-02 -6.15066700e-02\n",
      "  1.66936204e-01  3.53743315e-01  1.52789995e-01  2.69173324e-01\n"
     ]
    },
    {
     "name": "stdout",
     "output_type": "stream",
     "text": [
      "  1.38040006e-01 -1.31446660e-01 -1.90599915e-02  2.96900004e-01]\n"
     ]
    }
   ],
   "source": [
    "token1 = model(\"machine\")\n",
    "print(token1.vector)\n",
    "token2 = model(\"learning\")\n",
    "print(token2.vector)\n",
    "token3 = model(\"machine-learning\")\n",
    "print(token3.vector)"
   ]
  },
  {
   "cell_type": "code",
   "execution_count": null,
   "metadata": {},
   "outputs": [],
   "source": []
  }
 ],
 "metadata": {
  "kernelspec": {
   "display_name": "Python 3",
   "language": "python",
   "name": "python3"
  },
  "language_info": {
   "codemirror_mode": {
    "name": "ipython",
    "version": 3
   },
   "file_extension": ".py",
   "mimetype": "text/x-python",
   "name": "python",
   "nbconvert_exporter": "python",
   "pygments_lexer": "ipython3",
   "version": "3.7.3"
  }
 },
 "nbformat": 4,
 "nbformat_minor": 2
}
